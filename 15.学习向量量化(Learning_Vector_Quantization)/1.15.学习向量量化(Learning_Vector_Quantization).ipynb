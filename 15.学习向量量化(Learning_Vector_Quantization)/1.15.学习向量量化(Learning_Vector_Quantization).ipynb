{
 "cells": [
  {
   "cell_type": "markdown",
   "metadata": {
    "collapsed": true,
    "pycharm": {
     "name": "#%% md\n"
    }
   },
   "source": [
    "Created by william from lexueoude.com.\n",
    "更多正版技术视频讲解，公众号 1.乐学偶得（lexueoude）2.乐学FinTech (LoveShareFinTech)\n",
    "\n",
    "通常，我们使用LVQ方法用在分类问题上。\n",
    "\n",
    "codebook vector(是一系列数字，与你训练数据里的input与output相关的attribute一样)\n",
    "\n",
    "example：\n",
    "1.class 0,1\n",
    "2.width\n",
    "3.height\n",
    "4.length\n",
    "\n",
    "codebook vector(neuron):\n",
    "1.class 0,1\n",
    "2.width\n",
    "3.height\n",
    "4.length\n"
   ]
  },
  {
   "cell_type": "markdown",
   "source": [
    "LVQ跟KNN\n",
    "\n",
    "通过在codebook vector里面进行寻找，通过Euclidean距离进行判断，找到BMU（Best Matching Unit）\n",
    "\n",
    "\n",
    "1.选择一部分codebook vector。\n",
    "2.竞争机制（codebook vector与训练实例（training pattern）一致的情况下。codebook vector向训练实例靠近，反之，则离远）\n",
    "3.通过learning_rate控制移动的大小\n",
    "\n",
    "\n",
    "x = x + learning_rate * (t - x)\n",
    "\n",
    "4.对每个实例进行学习。\n",
    "\n",
    "learning_rate = alpha(最初的学习率) * （1- (epoch/max_epoch)）\n"
   ],
   "metadata": {
    "collapsed": false,
    "pycharm": {
     "name": "#%% md\n"
    }
   }
  },
  {
   "cell_type": "markdown",
   "source": [
    "计算两个向量之间的欧氏距离："
   ],
   "metadata": {
    "collapsed": false,
    "pycharm": {
     "name": "#%% md\n"
    }
   }
  },
  {
   "cell_type": "code",
   "execution_count": 2,
   "outputs": [],
   "source": [
    "from math import sqrt\n",
    "\n",
    "def calculate_euclidean_distance(row1,row2):\n",
    "    distance = 0.0\n",
    "    for i in range(len(row1)-1):\n",
    "        distance += (row1[i] - row2[i])**2\n",
    "    return sqrt(distance)\n",
    "\n",
    "\n",
    "dataset = [[1.80,1.91,0],\n",
    "           [1.85,2.11,0],\n",
    "           [2.31,2.88,0],\n",
    "           [3.54,-3.21,0],\n",
    "           [3.66,3.12,0],\n",
    "           [5.52,2.13,1],\n",
    "           [6.32,1.46,1],\n",
    "           [7.35,2.34,1],\n",
    "           [7.78,3.26,1],\n",
    "           [8.43,-0.34,1]\n",
    "           ]\n",
    "\n",
    "# row0 =dataset[0]\n",
    "# for row in dataset:\n",
    "#     distance = calculate_euclidean_distance(row0,row)\n",
    "#     print(distance)"
   ],
   "metadata": {
    "collapsed": false,
    "pycharm": {
     "name": "#%%\n"
    }
   }
  },
  {
   "cell_type": "markdown",
   "source": [
    "Best Matching Unit\n",
    "\n",
    "1.计算距离（codebook vector 与 新的输入信息）\n",
    "2.调用calculate_euclidean_distance\n",
    "3.排序（考虑到数据类型）\n",
    "4.选取BMU\n"
   ],
   "metadata": {
    "collapsed": false,
    "pycharm": {
     "name": "#%% md\n"
    }
   }
  },
  {
   "cell_type": "code",
   "execution_count": 3,
   "outputs": [],
   "source": [
    "def calculate_BMU(codebooks, test_row):\n",
    "    distances = list()\n",
    "    for codebook in codebooks:\n",
    "        dist = calculate_euclidean_distance(codebook,test_row)\n",
    "        distances.append((codebook,dist))\n",
    "    distances.sort(key=lambda every_tuple : every_tuple[1])\n",
    "    return distances[0][0]\n",
    "\n"
   ],
   "metadata": {
    "collapsed": false,
    "pycharm": {
     "name": "#%%\n"
    }
   }
  },
  {
   "cell_type": "code",
   "execution_count": 4,
   "outputs": [
    {
     "name": "stdout",
     "output_type": "stream",
     "text": [
      "[1.8, 1.91, 0]\n"
     ]
    }
   ],
   "source": [
    "test_row  = dataset[0]\n",
    "bmu = calculate_BMU(dataset,test_row)\n",
    "print(bmu)\n",
    "\n"
   ],
   "metadata": {
    "collapsed": false,
    "pycharm": {
     "name": "#%%\n"
    }
   }
  },
  {
   "cell_type": "code",
   "execution_count": 5,
   "outputs": [],
   "source": [
    "# 训练我们的codebook vector\n",
    "\n",
    "# 1.初始化（random feature）\n",
    "# 2.在每一个epoch,通过 training pattern 进行对codebook vector更新（学习）\n",
    "# 3.在每一个training pattern里面，每一个pattern feature如果与我们codebook vector一致的情况下，进行更新（更近，或者更远）\n",
    "from random import randrange\n",
    "\n",
    "def make_random_codebook(train):\n",
    "    n_index = len(train)\n",
    "    n_features = len(train[0])\n",
    "    codebook = [train[randrange(n_index)][i] for i in range(n_features)]\n",
    "    return codebook"
   ],
   "metadata": {
    "collapsed": false,
    "pycharm": {
     "name": "#%%\n"
    }
   }
  },
  {
   "cell_type": "code",
   "execution_count": 6,
   "outputs": [],
   "source": [
    "def train_codebooks(train,n_codebooks,learn_rate,epochs):\n",
    "    codebooks = [make_random_codebook(train) for i in range(n_codebooks)]\n",
    "    for epoch in range(epochs):\n",
    "        rate = learn_rate * (1-(epoch/float(epochs)))\n",
    "\n",
    "        sum_error = 0.0\n",
    "        for row in train:\n",
    "            bmu = calculate_BMU(codebooks,row)\n",
    "            for i in range(len(row)-1):\n",
    "                error = row[i] - bmu[i]\n",
    "                sum_error += error**2\n",
    "                if bmu[-1] == row[-1]:\n",
    "                    bmu[i] += rate * error\n",
    "                else:\n",
    "                    bmu[i] -= rate * error\n",
    "        print('Our current epoch is【%d】, Our current learning rate is :【%.3f】, Our current sum of errors is 【%.3f】' % (epoch,rate,sum_error))\n",
    "    return codebooks\n",
    "\n",
    "\n",
    "\n",
    "\n"
   ],
   "metadata": {
    "collapsed": false,
    "pycharm": {
     "name": "#%%\n"
    }
   }
  },
  {
   "cell_type": "code",
   "execution_count": 9,
   "outputs": [
    {
     "name": "stdout",
     "output_type": "stream",
     "text": [
      "Our current epoch is【0】, Our current learning rate is :【0.500】, Our current sum of errors is 【80.522】\n",
      "Our current epoch is【1】, Our current learning rate is :【0.495】, Our current sum of errors is 【75.822】\n",
      "Our current epoch is【2】, Our current learning rate is :【0.490】, Our current sum of errors is 【69.990】\n",
      "Our current epoch is【3】, Our current learning rate is :【0.485】, Our current sum of errors is 【69.641】\n",
      "Our current epoch is【4】, Our current learning rate is :【0.480】, Our current sum of errors is 【69.402】\n",
      "Our current epoch is【5】, Our current learning rate is :【0.475】, Our current sum of errors is 【69.169】\n",
      "Our current epoch is【6】, Our current learning rate is :【0.470】, Our current sum of errors is 【68.938】\n",
      "Our current epoch is【7】, Our current learning rate is :【0.465】, Our current sum of errors is 【68.708】\n",
      "Our current epoch is【8】, Our current learning rate is :【0.460】, Our current sum of errors is 【68.480】\n",
      "Our current epoch is【9】, Our current learning rate is :【0.455】, Our current sum of errors is 【68.254】\n",
      "Our current epoch is【10】, Our current learning rate is :【0.450】, Our current sum of errors is 【68.029】\n",
      "Our current epoch is【11】, Our current learning rate is :【0.445】, Our current sum of errors is 【67.805】\n",
      "Our current epoch is【12】, Our current learning rate is :【0.440】, Our current sum of errors is 【67.583】\n",
      "Our current epoch is【13】, Our current learning rate is :【0.435】, Our current sum of errors is 【67.363】\n",
      "Our current epoch is【14】, Our current learning rate is :【0.430】, Our current sum of errors is 【65.870】\n",
      "Our current epoch is【15】, Our current learning rate is :【0.425】, Our current sum of errors is 【65.626】\n",
      "Our current epoch is【16】, Our current learning rate is :【0.420】, Our current sum of errors is 【65.428】\n",
      "Our current epoch is【17】, Our current learning rate is :【0.415】, Our current sum of errors is 【65.120】\n",
      "Our current epoch is【18】, Our current learning rate is :【0.410】, Our current sum of errors is 【64.807】\n",
      "Our current epoch is【19】, Our current learning rate is :【0.405】, Our current sum of errors is 【64.494】\n",
      "Our current epoch is【20】, Our current learning rate is :【0.400】, Our current sum of errors is 【64.182】\n",
      "Our current epoch is【21】, Our current learning rate is :【0.395】, Our current sum of errors is 【63.871】\n",
      "Our current epoch is【22】, Our current learning rate is :【0.390】, Our current sum of errors is 【63.562】\n",
      "Our current epoch is【23】, Our current learning rate is :【0.385】, Our current sum of errors is 【63.253】\n",
      "Our current epoch is【24】, Our current learning rate is :【0.380】, Our current sum of errors is 【62.946】\n",
      "Our current epoch is【25】, Our current learning rate is :【0.375】, Our current sum of errors is 【62.640】\n",
      "Our current epoch is【26】, Our current learning rate is :【0.370】, Our current sum of errors is 【62.336】\n",
      "Our current epoch is【27】, Our current learning rate is :【0.365】, Our current sum of errors is 【62.032】\n",
      "Our current epoch is【28】, Our current learning rate is :【0.360】, Our current sum of errors is 【61.730】\n",
      "Our current epoch is【29】, Our current learning rate is :【0.355】, Our current sum of errors is 【61.429】\n",
      "Our current epoch is【30】, Our current learning rate is :【0.350】, Our current sum of errors is 【61.129】\n",
      "Our current epoch is【31】, Our current learning rate is :【0.345】, Our current sum of errors is 【60.830】\n",
      "Our current epoch is【32】, Our current learning rate is :【0.340】, Our current sum of errors is 【60.533】\n",
      "Our current epoch is【33】, Our current learning rate is :【0.335】, Our current sum of errors is 【60.236】\n",
      "Our current epoch is【34】, Our current learning rate is :【0.330】, Our current sum of errors is 【59.941】\n",
      "Our current epoch is【35】, Our current learning rate is :【0.325】, Our current sum of errors is 【59.647】\n",
      "Our current epoch is【36】, Our current learning rate is :【0.320】, Our current sum of errors is 【59.355】\n",
      "Our current epoch is【37】, Our current learning rate is :【0.315】, Our current sum of errors is 【59.063】\n",
      "Our current epoch is【38】, Our current learning rate is :【0.310】, Our current sum of errors is 【58.773】\n",
      "Our current epoch is【39】, Our current learning rate is :【0.305】, Our current sum of errors is 【58.483】\n",
      "Our current epoch is【40】, Our current learning rate is :【0.300】, Our current sum of errors is 【58.195】\n",
      "Our current epoch is【41】, Our current learning rate is :【0.295】, Our current sum of errors is 【57.909】\n",
      "Our current epoch is【42】, Our current learning rate is :【0.290】, Our current sum of errors is 【57.623】\n",
      "Our current epoch is【43】, Our current learning rate is :【0.285】, Our current sum of errors is 【57.339】\n",
      "Our current epoch is【44】, Our current learning rate is :【0.280】, Our current sum of errors is 【57.055】\n",
      "Our current epoch is【45】, Our current learning rate is :【0.275】, Our current sum of errors is 【56.773】\n",
      "Our current epoch is【46】, Our current learning rate is :【0.270】, Our current sum of errors is 【56.492】\n",
      "Our current epoch is【47】, Our current learning rate is :【0.265】, Our current sum of errors is 【56.213】\n",
      "Our current epoch is【48】, Our current learning rate is :【0.260】, Our current sum of errors is 【55.934】\n",
      "Our current epoch is【49】, Our current learning rate is :【0.255】, Our current sum of errors is 【55.657】\n",
      "Our current epoch is【50】, Our current learning rate is :【0.250】, Our current sum of errors is 【55.381】\n",
      "Our current epoch is【51】, Our current learning rate is :【0.245】, Our current sum of errors is 【55.106】\n",
      "Our current epoch is【52】, Our current learning rate is :【0.240】, Our current sum of errors is 【54.832】\n",
      "Our current epoch is【53】, Our current learning rate is :【0.235】, Our current sum of errors is 【54.560】\n",
      "Our current epoch is【54】, Our current learning rate is :【0.230】, Our current sum of errors is 【54.289】\n",
      "Our current epoch is【55】, Our current learning rate is :【0.225】, Our current sum of errors is 【54.018】\n",
      "Our current epoch is【56】, Our current learning rate is :【0.220】, Our current sum of errors is 【53.750】\n",
      "Our current epoch is【57】, Our current learning rate is :【0.215】, Our current sum of errors is 【53.482】\n",
      "Our current epoch is【58】, Our current learning rate is :【0.210】, Our current sum of errors is 【53.215】\n",
      "Our current epoch is【59】, Our current learning rate is :【0.205】, Our current sum of errors is 【52.950】\n",
      "Our current epoch is【60】, Our current learning rate is :【0.200】, Our current sum of errors is 【52.686】\n",
      "Our current epoch is【61】, Our current learning rate is :【0.195】, Our current sum of errors is 【52.423】\n",
      "Our current epoch is【62】, Our current learning rate is :【0.190】, Our current sum of errors is 【52.161】\n",
      "Our current epoch is【63】, Our current learning rate is :【0.185】, Our current sum of errors is 【51.901】\n",
      "Our current epoch is【64】, Our current learning rate is :【0.180】, Our current sum of errors is 【51.641】\n",
      "Our current epoch is【65】, Our current learning rate is :【0.175】, Our current sum of errors is 【51.383】\n",
      "Our current epoch is【66】, Our current learning rate is :【0.170】, Our current sum of errors is 【51.126】\n",
      "Our current epoch is【67】, Our current learning rate is :【0.165】, Our current sum of errors is 【50.871】\n",
      "Our current epoch is【68】, Our current learning rate is :【0.160】, Our current sum of errors is 【50.616】\n",
      "Our current epoch is【69】, Our current learning rate is :【0.155】, Our current sum of errors is 【50.363】\n",
      "Our current epoch is【70】, Our current learning rate is :【0.150】, Our current sum of errors is 【50.111】\n",
      "Our current epoch is【71】, Our current learning rate is :【0.145】, Our current sum of errors is 【49.860】\n",
      "Our current epoch is【72】, Our current learning rate is :【0.140】, Our current sum of errors is 【49.610】\n",
      "Our current epoch is【73】, Our current learning rate is :【0.135】, Our current sum of errors is 【49.362】\n",
      "Our current epoch is【74】, Our current learning rate is :【0.130】, Our current sum of errors is 【49.114】\n",
      "Our current epoch is【75】, Our current learning rate is :【0.125】, Our current sum of errors is 【48.868】\n",
      "Our current epoch is【76】, Our current learning rate is :【0.120】, Our current sum of errors is 【48.623】\n",
      "Our current epoch is【77】, Our current learning rate is :【0.115】, Our current sum of errors is 【48.379】\n",
      "Our current epoch is【78】, Our current learning rate is :【0.110】, Our current sum of errors is 【48.137】\n",
      "Our current epoch is【79】, Our current learning rate is :【0.105】, Our current sum of errors is 【47.896】\n",
      "Our current epoch is【80】, Our current learning rate is :【0.100】, Our current sum of errors is 【47.655】\n",
      "Our current epoch is【81】, Our current learning rate is :【0.095】, Our current sum of errors is 【47.417】\n",
      "Our current epoch is【82】, Our current learning rate is :【0.090】, Our current sum of errors is 【47.179】\n",
      "Our current epoch is【83】, Our current learning rate is :【0.085】, Our current sum of errors is 【46.942】\n",
      "Our current epoch is【84】, Our current learning rate is :【0.080】, Our current sum of errors is 【46.707】\n",
      "Our current epoch is【85】, Our current learning rate is :【0.075】, Our current sum of errors is 【46.473】\n",
      "Our current epoch is【86】, Our current learning rate is :【0.070】, Our current sum of errors is 【46.239】\n",
      "Our current epoch is【87】, Our current learning rate is :【0.065】, Our current sum of errors is 【46.008】\n",
      "Our current epoch is【88】, Our current learning rate is :【0.060】, Our current sum of errors is 【45.777】\n",
      "Our current epoch is【89】, Our current learning rate is :【0.055】, Our current sum of errors is 【45.547】\n",
      "Our current epoch is【90】, Our current learning rate is :【0.050】, Our current sum of errors is 【45.319】\n",
      "Our current epoch is【91】, Our current learning rate is :【0.045】, Our current sum of errors is 【45.092】\n",
      "Our current epoch is【92】, Our current learning rate is :【0.040】, Our current sum of errors is 【44.865】\n",
      "Our current epoch is【93】, Our current learning rate is :【0.035】, Our current sum of errors is 【44.641】\n",
      "Our current epoch is【94】, Our current learning rate is :【0.030】, Our current sum of errors is 【44.417】\n",
      "Our current epoch is【95】, Our current learning rate is :【0.025】, Our current sum of errors is 【44.194】\n",
      "Our current epoch is【96】, Our current learning rate is :【0.020】, Our current sum of errors is 【43.972】\n",
      "Our current epoch is【97】, Our current learning rate is :【0.015】, Our current sum of errors is 【43.752】\n",
      "Our current epoch is【98】, Our current learning rate is :【0.010】, Our current sum of errors is 【43.533】\n",
      "Our current epoch is【99】, Our current learning rate is :【0.005】, Our current sum of errors is 【43.315】\n",
      "Our codebook is : [[7.138622817293406, 1.7433887140438435, 1], [2.67588603990642, 1.3397603721910014, 0]]\n"
     ]
    }
   ],
   "source": [
    "learning_rate = 0.5\n",
    "n_epoch = 100\n",
    "n_codebooks = 2\n",
    "codebooks = train_codebooks(dataset,n_codebooks,learning_rate,n_epoch)\n",
    "print('Our codebook is : %s' % codebooks)\n",
    "\n"
   ],
   "metadata": {
    "collapsed": false,
    "pycharm": {
     "name": "#%%\n"
    }
   }
  },
  {
   "cell_type": "code",
   "execution_count": null,
   "outputs": [],
   "source": [],
   "metadata": {
    "collapsed": false,
    "pycharm": {
     "name": "#%%\n"
    }
   }
  }
 ],
 "metadata": {
  "kernelspec": {
   "display_name": "Python 3",
   "language": "python",
   "name": "python3"
  },
  "language_info": {
   "codemirror_mode": {
    "name": "ipython",
    "version": 2
   },
   "file_extension": ".py",
   "mimetype": "text/x-python",
   "name": "python",
   "nbconvert_exporter": "python",
   "pygments_lexer": "ipython2",
   "version": "2.7.6"
  }
 },
 "nbformat": 4,
 "nbformat_minor": 0
}