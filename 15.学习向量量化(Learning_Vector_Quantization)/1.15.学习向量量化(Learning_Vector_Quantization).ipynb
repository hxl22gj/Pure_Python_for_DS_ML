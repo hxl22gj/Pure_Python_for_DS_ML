{
 "cells": [
  {
   "cell_type": "markdown",
   "metadata": {
    "collapsed": true,
    "pycharm": {
     "name": "#%% md\n"
    }
   },
   "source": [
    "Created by william from lexueoude.com.\n",
    "更多正版技术视频讲解，公众号 1.乐学偶得（lexueoude）2.乐学FinTech (LoveShareFinTech)\n",
    "\n",
    "通常，我们使用LVQ方法用在分类问题上。\n",
    "\n",
    "codebook vector(是一系列数字，与你训练数据里的input与output相关的attribute一样)\n",
    "\n",
    "example：\n",
    "1.class 0,1\n",
    "2.width\n",
    "3.height\n",
    "4.length\n",
    "\n",
    "codebook vector(neuron):\n",
    "1.class 0,1\n",
    "2.width\n",
    "3.height\n",
    "4.length\n"
   ]
  },
  {
   "cell_type": "markdown",
   "source": [
    "LVQ跟KNN\n",
    "\n",
    "通过在codebook vector里面进行寻找，通过Euclidean距离进行判断，找到BMU（Best Matching Unit）\n",
    "\n",
    "\n",
    "1.选择一部分codebook vector。\n",
    "2.竞争机制（codebook vector与训练实例（training pattern）一致的情况下。codebook vector向训练实例靠近，反之，则离远）\n",
    "3.通过learning_rate控制移动的大小\n",
    "\n",
    "\n",
    "x = x + learning_rate * (t - x)\n",
    "\n",
    "4.对每个实例进行学习。\n",
    "\n",
    "learning_rate = alpha(最初的学习率) * （1- (epoch/max_epoch)）\n"
   ],
   "metadata": {
    "collapsed": false,
    "pycharm": {
     "name": "#%% md\n"
    }
   }
  },
  {
   "cell_type": "markdown",
   "source": [
    "计算两个向量之间的欧氏距离："
   ],
   "metadata": {
    "collapsed": false,
    "pycharm": {
     "name": "#%% md\n"
    }
   }
  },
  {
   "cell_type": "code",
   "execution_count": 2,
   "outputs": [],
   "source": [
    "from math import sqrt\n",
    "\n",
    "def calculate_euclidean_distance(row1,row2):\n",
    "    distance = 0.0\n",
    "    for i in range(len(row1)-1):\n",
    "        distance += (row1[i] - row2[i])**2\n",
    "    return sqrt(distance)\n",
    "\n",
    "\n",
    "dataset = [[1.80,1.91,0],\n",
    "           [1.85,2.11,0],\n",
    "           [2.31,2.88,0],\n",
    "           [3.54,-3.21,0],\n",
    "           [3.66,3.12,0],\n",
    "           [5.52,2.13,1],\n",
    "           [6.32,1.46,1],\n",
    "           [7.35,2.34,1],\n",
    "           [7.78,3.26,1],\n",
    "           [8.43,-0.34,1]\n",
    "           ]\n",
    "\n",
    "# row0 =dataset[0]\n",
    "# for row in dataset:\n",
    "#     distance = calculate_euclidean_distance(row0,row)\n",
    "#     print(distance)"
   ],
   "metadata": {
    "collapsed": false,
    "pycharm": {
     "name": "#%%\n"
    }
   }
  },
  {
   "cell_type": "markdown",
   "source": [
    "Best Matching Unit\n",
    "\n",
    "1.计算距离（codebook vector 与 新的输入信息）\n",
    "2.调用calculate_euclidean_distance\n",
    "3.排序（考虑到数据类型）\n",
    "4.选取BMU\n"
   ],
   "metadata": {
    "collapsed": false,
    "pycharm": {
     "name": "#%% md\n"
    }
   }
  },
  {
   "cell_type": "code",
   "execution_count": 3,
   "outputs": [],
   "source": [
    "def calculate_BMU(codebooks, test_row):\n",
    "    distances = list()\n",
    "    for codebook in codebooks:\n",
    "        dist = calculate_euclidean_distance(codebook,test_row)\n",
    "        distances.append((codebook,dist))\n",
    "    distances.sort(key=lambda every_tuple : every_tuple[1])\n",
    "    return distances[0][0]\n",
    "\n"
   ],
   "metadata": {
    "collapsed": false,
    "pycharm": {
     "name": "#%%\n"
    }
   }
  },
  {
   "cell_type": "code",
   "execution_count": 4,
   "outputs": [
    {
     "name": "stdout",
     "output_type": "stream",
     "text": [
      "[1.8, 1.91, 0]\n"
     ]
    }
   ],
   "source": [
    "test_row  = dataset[0]\n",
    "bmu = calculate_BMU(dataset,test_row)\n",
    "print(bmu)\n",
    "\n"
   ],
   "metadata": {
    "collapsed": false,
    "pycharm": {
     "name": "#%%\n"
    }
   }
  },
  {
   "cell_type": "code",
   "execution_count": 5,
   "outputs": [],
   "source": [
    "# 训练我们的codebook vector\n",
    "\n",
    "# 1.初始化（random feature）\n",
    "# 2.在每一个epoch,通过 training pattern 进行对codebook vector更新（学习）\n",
    "# 3.在每一个training pattern里面，每一个pattern feature如果与我们codebook vector一致的情况下，进行更新（更近，或者更远）\n",
    "from random import randrange\n",
    "\n",
    "def make_random_codebook(train):\n",
    "    n_index = len(train)\n",
    "    n_features = len(train[0])\n",
    "    codebook = [train[randrange(n_index)][i] for i in range(n_features)]\n",
    "    return codebook"
   ],
   "metadata": {
    "collapsed": false,
    "pycharm": {
     "name": "#%%\n"
    }
   }
  },
  {
   "cell_type": "code",
   "execution_count": null,
   "outputs": [],
   "source": [],
   "metadata": {
    "collapsed": false,
    "pycharm": {
     "name": "#%%\n"
    }
   }
  }
 ],
 "metadata": {
  "kernelspec": {
   "display_name": "Python 3",
   "language": "python",
   "name": "python3"
  },
  "language_info": {
   "codemirror_mode": {
    "name": "ipython",
    "version": 2
   },
   "file_extension": ".py",
   "mimetype": "text/x-python",
   "name": "python",
   "nbconvert_exporter": "python",
   "pygments_lexer": "ipython2",
   "version": "2.7.6"
  }
 },
 "nbformat": 4,
 "nbformat_minor": 0
}